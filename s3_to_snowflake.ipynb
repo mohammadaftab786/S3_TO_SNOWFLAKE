{
 "cells": [
  {
   "cell_type": "code",
   "execution_count": null,
   "id": "d332b887",
   "metadata": {},
   "outputs": [],
   "source": [
    "#STEPS FOR LOADING DATA FROM AMAZON S3 TO SNOWFLAKE DATAWAREHOUSE THROUGH EXTERNAL STAGE:\n",
    "\n",
    "\n",
    "#STEP-1, CREATE INTEGRATION BETWEEN S3 AND SNOWFLAKE DWH:\n",
    "\n",
    "  CREATE STORAGE INTEGRATION my_s3_integration(#integration name)\n",
    "  TYPE = EXTERNAL_STAGE\n",
    "  STORAGE_PROVIDER = S3\n",
    "  ENABLED = TRUE\n",
    "  STORAGE_AWS_ROLE_ARN = 'arn:aws:iam::53802322:role/<bucket_name>'(#copy ARN from role section in IAM)\n",
    "  STORAGE_ALLOWED_LOCATIONS = ('s3://consumercompl42/consumer42/');(#copy s3 url from folder inside bucket)\n",
    "\n",
    "#CHECK INTEGRATION DETAILS:\n",
    "\n",
    "  desc integration my_s3_integration;\n",
    "\n",
    "#CREATE AN EXTERNAL STAGE:\n",
    "\n",
    "  CREATE STAGE my_s3_stage(#stage name)\n",
    "  URL = 's3://consumercompl42/consumer42/'(#copy s3 url from folder inside bucket)\n",
    "  STORAGE_INTEGRATION = my_s3_integration;\n",
    "\n",
    "\n",
    "#list object in stage:\n",
    "\n",
    "  ls @my_s3_stage;\n",
    "\n",
    "\n",
    "#Example of using the Storage Integration to copy data from S3 into a Snowflake table: \n",
    "\n",
    "  COPY INTO CONSUM_COMPNTS_AWS(#table name created in SDWH)\n",
    "  FROM @my_s3_stage\n",
    "  FILE_FORMAT = my_csv_format;\n",
    "\n",
    "\n",
    "\n",
    "#Create a File Format:\n",
    "\n",
    "#If your data files are in a format other than CSV (e.g., JSON, Parquet, etc.), you'll need to create a file format that matches the file type.\n",
    " \n",
    "  CREATE FILE FORMAT my_csv_format(#file format name)\n",
    "  TYPE = CSV\n",
    "  FIELD_DELIMITER = ','\n",
    "  RECORD_DELIMITER = '\\n'\n",
    "  SKIP_HEADER = 1; -- Set to 0 if your file doesn't have a header row\n",
    "\n",
    "\n",
    "create or replace table CONSUM_COMPNTS_AWS\n",
    "      \n",
    "select * from CONSUM_COMPNTS_AWS limit 10;\n",
    "\n",
    "select count(*) from CONSUM_COMPNTS_AWS;"
   ]
  },
  {
   "cell_type": "code",
   "execution_count": null,
   "id": "6180bc78",
   "metadata": {},
   "outputs": [],
   "source": []
  }
 ],
 "metadata": {
  "kernelspec": {
   "display_name": "Python 3 (ipykernel)",
   "language": "python",
   "name": "python3"
  },
  "language_info": {
   "codemirror_mode": {
    "name": "ipython",
    "version": 3
   },
   "file_extension": ".py",
   "mimetype": "text/x-python",
   "name": "python",
   "nbconvert_exporter": "python",
   "pygments_lexer": "ipython3",
   "version": "3.9.7"
  }
 },
 "nbformat": 4,
 "nbformat_minor": 5
}
